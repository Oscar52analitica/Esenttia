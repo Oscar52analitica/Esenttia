{
  "nbformat": 4,
  "nbformat_minor": 0,
  "metadata": {
    "colab": {
      "provenance": [],
      "authorship_tag": "ABX9TyN9BoxLIztdU0h9i8s8g1kB",
      "include_colab_link": true
    },
    "kernelspec": {
      "name": "python3",
      "display_name": "Python 3"
    },
    "language_info": {
      "name": "python"
    }
  },
  "cells": [
    {
      "cell_type": "markdown",
      "metadata": {
        "id": "view-in-github",
        "colab_type": "text"
      },
      "source": [
        "<a href=\"https://colab.research.google.com/github/Oscar52analitica/Esenttia/blob/main/C%C3%B3digo_para_extraer_referencias.ipynb\" target=\"_parent\"><img src=\"https://colab.research.google.com/assets/colab-badge.svg\" alt=\"Open In Colab\"/></a>"
      ]
    },
    {
      "cell_type": "code",
      "source": [
        "import pandas as pd\n",
        "import re"
      ],
      "metadata": {
        "id": "8G_WFzSjl3Bz"
      },
      "execution_count": null,
      "outputs": []
    },
    {
      "cell_type": "markdown",
      "source": [
        "## leer el dataframe"
      ],
      "metadata": {
        "id": "wMt_keHzCJdk"
      }
    },
    {
      "cell_type": "code",
      "execution_count": null,
      "metadata": {
        "id": "67m5tW5Yl2d8"
      },
      "outputs": [],
      "source": [
        "# Cargar el archivo de Excel desde el almacenamiento de sesión de Google Colab\n",
        "df = pd.read_excel('Prueba_1_referencia.xlsx')"
      ]
    },
    {
      "cell_type": "markdown",
      "source": [
        "## Codigo para extraer la referencia en una hoja"
      ],
      "metadata": {
        "id": "K831ydizCQD3"
      }
    },
    {
      "cell_type": "code",
      "source": [
        "# Función para extraer la referencia\n",
        "def extraer_referencia(texto):\n",
        "    if pd.isna(texto):  # Verifica si el texto es NaN\n",
        "        return \"Desconocido\"  # Si el texto es NaN, devuelve \"Desconocido\"\n",
        "\n",
        "    try:\n",
        "        # Usamos una expresión regular para encontrar \"REFERENCIA:\" seguido de cualquier texto hasta el primer espacio, coma o punto y coma\n",
        "        match = re.search(r'REFERENCIA:\\s*([^\\s,;]+)', texto)\n",
        "        # Si hay coincidencia, devolvemos la referencia eliminando posibles espacios al principio/final\n",
        "        return match.group(1).strip() if match else \"Desconocido\"\n",
        "    except Exception as e:\n",
        "        print(f\"Error: {e}\")  # Imprime el error si ocurre\n",
        "        return \"Desconocido\"  # En caso de error, devolvemos \"Desconocido\""
      ],
      "metadata": {
        "id": "sgH49OL5prBb"
      },
      "execution_count": null,
      "outputs": []
    },
    {
      "cell_type": "code",
      "source": [
        "# Aplicamos la función a la columna 'Descripcion Comercial del Producto' y creamos la nueva columna 'Referencia_1'\n",
        "df['Referencia_1'] = df['Descripcion Comercial del Producto'].apply(extraer_referencia)  # Usamos el nombre correcto de la columna"
      ],
      "metadata": {
        "id": "CLc5QHuQrWwI"
      },
      "execution_count": null,
      "outputs": []
    },
    {
      "cell_type": "code",
      "source": [
        "# Guardar el resultado en un nuevo archivo de Excel\n",
        "df.to_excel('Prueba_1_referencia_con_referencias.xlsx', index=False)"
      ],
      "metadata": {
        "id": "FI4seev-rhCq"
      },
      "execution_count": null,
      "outputs": []
    },
    {
      "cell_type": "markdown",
      "source": [
        "***\n"
      ],
      "metadata": {
        "id": "3YxI0U0Us_Fg"
      }
    },
    {
      "cell_type": "markdown",
      "source": [
        "## Codigo si estan diferentes hojas y unificado en una hoja\n"
      ],
      "metadata": {
        "id": "WOEShPjJtA-4"
      }
    },
    {
      "cell_type": "code",
      "source": [
        "import pandas as pd\n",
        "import re\n",
        "\n",
        "# Lista de nombres de las hojas a procesar\n",
        "hojas = ['390110', '390120', '390190', '390140']\n",
        "\n",
        "# Inicializamos una lista para almacenar los DataFrames\n",
        "dataframes = []\n",
        "\n",
        "# Función para extraer la referencia\n",
        "def extraer_referencia(texto):\n",
        "    if pd.isna(texto):  # Verifica si el texto es NaN\n",
        "        return \"Desconocido\"  # Si el texto es NaN, devuelve \"Desconocido\"\n",
        "\n",
        "    try:\n",
        "        # Usamos una expresión regular para encontrar \"REFERENCIA:\" seguido de cualquier texto hasta el primer espacio, coma o punto y coma\n",
        "        match = re.search(r'REFERENCIA:\\s*([^\\s,;]+)', texto)\n",
        "        # Si hay coincidencia, devolvemos la referencia eliminando posibles espacios al principio/final\n",
        "        return match.group(1).strip() if match else \"Desconocido\"\n",
        "    except Exception as e:\n",
        "        print(f\"Error: {e}\")  # Imprime el error si ocurre\n",
        "        return \"Desconocido\"  # En caso de error, devolvemos \"Desconocido\"\n",
        "\n",
        "# Procesar cada hoja\n",
        "for hoja in hojas:\n",
        "    # Cargar el DataFrame desde la hoja actual\n",
        "    df = pd.read_excel('Prueba_1_referencia.xlsx', sheet_name=hoja)  # Asegúrate de que el nombre del archivo sea correcto\n",
        "\n",
        "    # Aplicamos la función a la columna 'Descripcion Comercial del Producto' y creamos la nueva columna 'Referencia_1'\n",
        "    df['Referencia_1'] = df['Descripcion Comercial del Producto'].apply(extraer_referencia)  # Usamos el nombre correcto de la columna\n",
        "\n",
        "    # Agregar el DataFrame procesado a la lista\n",
        "    dataframes.append(df)\n",
        "\n",
        "# Concatenar todos los DataFrames en uno solo\n",
        "df_completo = pd.concat(dataframes, ignore_index=True)\n",
        "\n",
        "# Guardar el resultado en un nuevo archivo de Excel\n",
        "df_completo.to_excel('Prueba_1_referencia_con_referencias.xlsx', index=False)\n",
        "\n"
      ],
      "metadata": {
        "id": "EwXKAYC4tAba"
      },
      "execution_count": null,
      "outputs": []
    },
    {
      "cell_type": "markdown",
      "source": [
        "Codigo si necsito que me lo de por diferentes sheets y no unificado\n"
      ],
      "metadata": {
        "id": "NDPVtpLW8Rmn"
      }
    },
    {
      "cell_type": "code",
      "source": [
        "import pandas as pd\n",
        "import re\n",
        "\n",
        "# Lista de nombres de las hojas a procesar\n",
        "hojas = ['390110', '390120', '390190', '390140']\n",
        "\n",
        "# Inicializamos un diccionario para almacenar los DataFrames por hoja\n",
        "dataframes = {}\n",
        "\n",
        "# Función para extraer la referencia\n",
        "def extraer_referencia(texto):\n",
        "    if pd.isna(texto):  # Verifica si el texto es NaN\n",
        "        return \"Desconocido\"  # Si el texto es NaN, devuelve \"Desconocido\"\n",
        "\n",
        "    try:\n",
        "        # Usamos una expresión regular para encontrar \"REFERENCIA:\" seguido de cualquier texto hasta el primer espacio, coma o punto y coma\n",
        "        match = re.search(r'REFERENCIA:\\s*([^\\s,;]+)', texto)\n",
        "        # Si hay coincidencia, devolvemos la referencia eliminando posibles espacios al principio/final\n",
        "        return match.group(1).strip() if match else \"Desconocido\"\n",
        "    except Exception as e:\n",
        "        print(f\"Error: {e}\")  # Imprime el error si ocurre\n",
        "        return \"Desconocido\"  # En caso de error, devolvemos \"Desconocido\"\n",
        "\n",
        "# Procesar cada hoja\n",
        "for hoja in hojas:\n",
        "    # Cargar el DataFrame desde la hoja actual\n",
        "    df = pd.read_excel('Prueba_1_referencia.xlsx', sheet_name=hoja)  # Asegúrate de que el nombre del archivo sea correcto\n",
        "\n",
        "    # Aplicamos la función a la columna 'Descripcion Comercial del Producto' y creamos la nueva columna 'Referencia_1'\n",
        "    df['Referencia_1'] = df['Descripcion Comercial del Producto'].apply(extraer_referencia)  # Usamos el nombre correcto de la columna\n",
        "\n",
        "    # Agregar el DataFrame procesado al diccionario con el nombre de la hoja\n",
        "    dataframes[hoja] = df\n",
        "\n",
        "# Guardar todos los DataFrames en un nuevo archivo de Excel manteniendo la estructura de hojas\n",
        "with pd.ExcelWriter('Prueba_1_referencia_con_referencias.xlsx') as writer:\n",
        "    for hoja, df in dataframes.items():\n",
        "        df.to_excel(writer, sheet_name=hoja, index=False)\n",
        "\n"
      ],
      "metadata": {
        "id": "DDc0bacNxBHW"
      },
      "execution_count": null,
      "outputs": []
    }
  ]
}