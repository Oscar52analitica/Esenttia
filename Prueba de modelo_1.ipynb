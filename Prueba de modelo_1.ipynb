{
  "cells": [
    {
      "cell_type": "markdown",
      "metadata": {
        "id": "view-in-github",
        "colab_type": "text"
      },
      "source": [
        "<a href=\"https://colab.research.google.com/github/Oscar52analitica/Esenttia/blob/main/Prueba%20de%20modelo_1.ipynb\" target=\"_parent\"><img src=\"https://colab.research.google.com/assets/colab-badge.svg\" alt=\"Open In Colab\"/></a>"
      ]
    },
    {
      "cell_type": "markdown",
      "source": [
        "# Contenido"
      ],
      "metadata": {
        "id": "FsI0tbW9qT_5"
      }
    },
    {
      "cell_type": "code",
      "source": [
        "# Manipulación de datos y operaciones numéricas\n",
        "\n",
        "import pandas as pd  # Manejo de datos en formato tabular (DataFrames)\n",
        "import numpy as np  # Operaciones numéricas y manejo de arrays\n",
        "\n",
        "# Visualización de datos\n",
        "import matplotlib.pyplot as plt  # Creación de gráficos y visualizaciones básicas\n",
        "import seaborn as sns  # Visualización avanzada, basada en matplotlib con temas y gráficos predeterminados\n",
        "\n",
        "# Preprocesamiento de datos\n",
        "from sklearn.impute import SimpleImputer  # Imputación de valores faltantes en el conjunto de datos\n",
        "from sklearn.preprocessing import LabelEncoder  # Codificación de variables categóricas en valores numéricos\n",
        "\n",
        "# Modelado y selección de modelos\n",
        "from sklearn.model_selection import train_test_split  # División del conjunto de datos en entrenamiento y prueba\n",
        "\n",
        "# Algoritmos de regresión\n",
        "from sklearn.linear_model import LinearRegression, Ridge, Lasso, RidgeCV  # Regresiones lineales y regularizadas\n",
        "from sklearn.neighbors import KNeighborsRegressor as KNN  # Algoritmo de regresión basado en vecinos más cercanos\n",
        "from xgboost import XGBRegressor  # Algoritmo de regresión basado en boosting\n",
        "\n",
        "# Evaluación del modelo\n",
        "from sklearn.metrics import mean_squared_error, r2_score  # Métricas de evaluación para modelos de regresión (error cuadrático medio y coeficiente de determinación)\n",
        "\n",
        "# Sistema operativo\n",
        "import os  # Interacción con el sistema operativo, manejo de rutas, archivos, etc."
      ],
      "metadata": {
        "id": "zDSk_3ENqZLr"
      },
      "execution_count": null,
      "outputs": []
    },
    {
      "cell_type": "markdown",
      "source": [
        "EDA (Analisis exploratorio de datos)"
      ],
      "metadata": {
        "id": "D-sq7rxX7VMA"
      }
    },
    {
      "cell_type": "code",
      "source": [],
      "metadata": {
        "id": "mPHNtlKt7U0C"
      },
      "execution_count": null,
      "outputs": []
    }
  ],
  "metadata": {
    "colab": {
      "name": "Te damos la bienvenida a Colaboratory",
      "provenance": [],
      "include_colab_link": true
    },
    "kernelspec": {
      "display_name": "Python 3",
      "name": "python3"
    }
  },
  "nbformat": 4,
  "nbformat_minor": 0
}