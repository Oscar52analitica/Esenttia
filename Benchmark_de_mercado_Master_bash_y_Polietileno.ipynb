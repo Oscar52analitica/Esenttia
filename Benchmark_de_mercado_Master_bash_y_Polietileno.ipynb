{
  "nbformat": 4,
  "nbformat_minor": 0,
  "metadata": {
    "colab": {
      "provenance": [],
      "authorship_tag": "ABX9TyOk9ttrScAEZdwR8XUTQaCt",
      "include_colab_link": true
    },
    "kernelspec": {
      "name": "python3",
      "display_name": "Python 3"
    },
    "language_info": {
      "name": "python"
    }
  },
  "cells": [
    {
      "cell_type": "markdown",
      "metadata": {
        "id": "view-in-github",
        "colab_type": "text"
      },
      "source": [
        "<a href=\"https://colab.research.google.com/github/Oscar52analitica/Esenttia/blob/main/Benchmark_de_mercado_Master_bash_y_Polietileno.ipynb\" target=\"_parent\"><img src=\"https://colab.research.google.com/assets/colab-badge.svg\" alt=\"Open In Colab\"/></a>"
      ]
    },
    {
      "cell_type": "code",
      "source": [
        "import requests\n",
        "from bs4 import BeautifulSoup\n",
        "import pandas as pd\n",
        "from google.colab import files\n",
        "import io\n",
        "from google.colab import files\n",
        "uploaded = files.upload()"
      ],
      "metadata": {
        "id": "kQh7E6Z8tHk_"
      },
      "execution_count": null,
      "outputs": []
    },
    {
      "cell_type": "markdown",
      "source": [
        "# Web Scraping"
      ],
      "metadata": {
        "id": "cDCridHCmu57"
      }
    },
    {
      "cell_type": "markdown",
      "source": [
        "Usar una u otra según el País\n",
        "\n",
        "Rutas\n",
        "\n",
        "Sicex. Colombia.\n",
        "\n",
        "Ruta: https://sicex.com/en/\n",
        "\n",
        "Penta: https://penta-transaction.com/PortalPenta/inicio"
      ],
      "metadata": {
        "id": "FiuNk_Xjn3KR"
      }
    },
    {
      "cell_type": "markdown",
      "source": [
        "## Procesamiento"
      ],
      "metadata": {
        "id": "dWVP3gZSROod"
      }
    },
    {
      "cell_type": "code",
      "source": [
        "# Leer el archivo Excel cargado\n",
        "archivo_excel = list(uploaded.keys())[0]  # Obtener el nombre del archivo subido\n",
        "\n",
        "#dtype={\"importaciones\":\"str\"}\n",
        "\n",
        "# Cargar las dos hojas del archivo Excel\n",
        "df_hoja1 = pd.read_excel(archivo_excel, sheet_name='Sheet1')  # Hoja 1: País, Precio, Año\n",
        "df_hoja2 = pd.read_excel(archivo_excel, sheet_name='Sheet2')  # Hoja 2: País, Edad\n",
        "\n",
        "#dtype={\"importaciones\":\"str\"}\n",
        "\n",
        "\n",
        "# Seleccionar las columnas que nos interesan de ambas hojas\n",
        "columnas_hoja1 = ['País', 'Precio', 'Año']\n",
        "columnas_hoja2 = ['País', 'Edad']\n",
        "\n",
        "# Realizamos la combinación (buscar v) entre las dos hojas usando 'País' como clave\n",
        "df_combinado = pd.merge(df_hoja1[columnas_hoja1], df_hoja2[columnas_hoja2], on='País', how='left')\n",
        "\n",
        "# Mostrar el DataFrame resultante\n",
        "print(\"DataFrame combinado:\")\n",
        "print(df_combinado)\n",
        "\n",
        "# Exportar el DataFrame combinado a un archivo Excel sin formato\n",
        "nombre_archivo = 'resultado_combinado.xlsx'\n",
        "df_combinado.to_excel(nombre_archivo, index=False)  # Guardar sin el índice\n",
        "\n",
        "# Descargar el archivo resultante\n",
        "files.download(nombre_archivo)\n"
      ],
      "metadata": {
        "id": "eO2eb2thStlC"
      },
      "execution_count": null,
      "outputs": []
    },
    {
      "cell_type": "markdown",
      "source": [
        "Descarga del csv"
      ],
      "metadata": {
        "id": "jJunNXDlRTXz"
      }
    },
    {
      "cell_type": "code",
      "source": [
        "df.to_csv('df.csv')"
      ],
      "metadata": {
        "id": "xb8RZqwj0qlS"
      },
      "execution_count": null,
      "outputs": []
    }
  ]
}