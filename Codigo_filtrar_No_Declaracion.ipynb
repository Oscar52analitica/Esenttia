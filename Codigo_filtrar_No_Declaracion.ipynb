{
  "nbformat": 4,
  "nbformat_minor": 0,
  "metadata": {
    "colab": {
      "provenance": [],
      "authorship_tag": "ABX9TyNQYU8gxhjfDBFm4GWcOVJ8",
      "include_colab_link": true
    },
    "kernelspec": {
      "name": "python3",
      "display_name": "Python 3"
    },
    "language_info": {
      "name": "python"
    }
  },
  "cells": [
    {
      "cell_type": "markdown",
      "metadata": {
        "id": "view-in-github",
        "colab_type": "text"
      },
      "source": [
        "<a href=\"https://colab.research.google.com/github/Oscar52analitica/Esenttia/blob/main/Codigo_filtrar_No_Declaracion.ipynb\" target=\"_parent\"><img src=\"https://colab.research.google.com/assets/colab-badge.svg\" alt=\"Open In Colab\"/></a>"
      ]
    },
    {
      "cell_type": "code",
      "execution_count": 2,
      "metadata": {
        "colab": {
          "base_uri": "https://localhost:8080/",
          "height": 34
        },
        "id": "D1R-7Gs4nzls",
        "outputId": "f171766e-39d0-4614-f4a5-9529f2f84d29"
      },
      "outputs": [
        {
          "output_type": "display_data",
          "data": {
            "text/plain": [
              "<IPython.core.display.Javascript object>"
            ],
            "application/javascript": [
              "\n",
              "    async function download(id, filename, size) {\n",
              "      if (!google.colab.kernel.accessAllowed) {\n",
              "        return;\n",
              "      }\n",
              "      const div = document.createElement('div');\n",
              "      const label = document.createElement('label');\n",
              "      label.textContent = `Downloading \"${filename}\": `;\n",
              "      div.appendChild(label);\n",
              "      const progress = document.createElement('progress');\n",
              "      progress.max = size;\n",
              "      div.appendChild(progress);\n",
              "      document.body.appendChild(div);\n",
              "\n",
              "      const buffers = [];\n",
              "      let downloaded = 0;\n",
              "\n",
              "      const channel = await google.colab.kernel.comms.open(id);\n",
              "      // Send a message to notify the kernel that we're ready.\n",
              "      channel.send({})\n",
              "\n",
              "      for await (const message of channel.messages) {\n",
              "        // Send a message to notify the kernel that we're ready.\n",
              "        channel.send({})\n",
              "        if (message.buffers) {\n",
              "          for (const buffer of message.buffers) {\n",
              "            buffers.push(buffer);\n",
              "            downloaded += buffer.byteLength;\n",
              "            progress.value = downloaded;\n",
              "          }\n",
              "        }\n",
              "      }\n",
              "      const blob = new Blob(buffers, {type: 'application/binary'});\n",
              "      const a = document.createElement('a');\n",
              "      a.href = window.URL.createObjectURL(blob);\n",
              "      a.download = filename;\n",
              "      div.appendChild(a);\n",
              "      a.click();\n",
              "      div.remove();\n",
              "    }\n",
              "  "
            ]
          },
          "metadata": {}
        },
        {
          "output_type": "display_data",
          "data": {
            "text/plain": [
              "<IPython.core.display.Javascript object>"
            ],
            "application/javascript": [
              "download(\"download_aef0195c-d913-45e7-aa72-49c00f9a0d41\", \"Resultados_filtrados_390190.xlsx\", 911905)"
            ]
          },
          "metadata": {}
        },
        {
          "output_type": "stream",
          "name": "stdout",
          "text": [
            "¡Filtrado completado y guardado en 'Resultados_filtrados_390190.xlsx' con dos hojas!\n"
          ]
        }
      ],
      "source": [
        "# Importar las librerías necesarias\n",
        "import pandas as pd\n",
        "\n",
        "# Leer el archivo Excel directamente desde el almacenamiento local\n",
        "df_data_completa = pd.read_excel('390190.xlsx', sheet_name='Data_completa')  # Cargar la hoja 'Data_completa'\n",
        "df_data_busqueda = pd.read_excel('390190.xlsx', sheet_name='Data_busqueda')  # Cargar la hoja 'Data_busqueda'\n",
        "\n",
        "# Convertir las columnas 'No. Declaración' a string para evitar problemas de formato\n",
        "df_data_completa['No. Declaración'] = df_data_completa['No. Declaración'].astype(str)\n",
        "df_data_busqueda['No. Declaración'] = df_data_busqueda['No. Declaración'].astype(str)\n",
        "\n",
        "# Filtrar los datos en 'Data_completa' donde 'No. Declaración' está en 'Data_busqueda'\n",
        "df_filtrado = df_data_completa[df_data_completa['No. Declaración'].isin(df_data_busqueda['No. Declaración'])]\n",
        "\n",
        "# Obtener los datos que no fueron filtrados (no están en 'Data_busqueda')\n",
        "df_no_filtrado = df_data_completa[~df_data_completa['No. Declaración'].isin(df_data_busqueda['No. Declaración'])]\n",
        "\n",
        "# Guardar el resultado en un nuevo archivo Excel con dos hojas\n",
        "output_filename = 'Resultados_filtrados_390190.xlsx'\n",
        "\n",
        "with pd.ExcelWriter(output_filename) as writer:\n",
        "    df_filtrado.to_excel(writer, sheet_name='Data_antigua_remplazo', index=False)  # Hoja de datos filtrados\n",
        "    df_no_filtrado.to_excel(writer, sheet_name='Data_nueva_a_agregar', index=False)  # Hoja de datos no filtrados\n",
        "\n",
        "# Descargar el archivo filtrado con ambas hojas (opcional)\n",
        "from google.colab import files\n",
        "files.download(output_filename)\n",
        "\n",
        "print(\"¡Filtrado completado y guardado en 'Resultados_filtrados_390190.xlsx' con dos hojas!\")\n",
        "\n",
        "\n"
      ]
    }
  ]
}