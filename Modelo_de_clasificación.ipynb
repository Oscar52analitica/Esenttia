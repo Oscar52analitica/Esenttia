{
  "cells": [
    {
      "cell_type": "markdown",
      "metadata": {
        "id": "view-in-github",
        "colab_type": "text"
      },
      "source": [
        "<a href=\"https://colab.research.google.com/github/Oscar52analitica/Esenttia/blob/main/Modelo_de_clasificaci%C3%B3n.ipynb\" target=\"_parent\"><img src=\"https://colab.research.google.com/assets/colab-badge.svg\" alt=\"Open In Colab\"/></a>"
      ]
    },
    {
      "cell_type": "code",
      "source": [
        "import pandas as pd\n",
        "from sklearn.model_selection import train_test_split\n",
        "from sklearn.linear_model import LinearRegression\n",
        "from sklearn.metrics import mean_squared_error, r2_score\n",
        "from sklearn.preprocessing import LabelEncoder\n",
        "from sklearn.preprocessing import StandardScaler\n",
        "import matplotlib.pyplot as plt\n",
        "import seaborn as sns\n",
        "from sklearn.pipeline import make_pipeline\n",
        "from sklearn.model_selection import GridSearchCV\n",
        "from sklearn.metrics import accuracy_score, confusion_matrix, classification_report\n",
        "from sklearn.multioutput import MultiOutputClassifier\n",
        "from sklearn.feature_extraction.text import TfidfVectorizer\n"
      ],
      "metadata": {
        "id": "Ho8ZOESgNEXK"
      },
      "execution_count": 9,
      "outputs": []
    },
    {
      "cell_type": "code",
      "source": [
        "File_inicial=  pd.read_excel('/content/file_inicial.xlsx')"
      ],
      "metadata": {
        "id": "8xTXXg9yOqnf"
      },
      "execution_count": 17,
      "outputs": []
    },
    {
      "cell_type": "code",
      "source": [
        "File_nueva=  pd.read_excel('/content/file_nueva.xlsx')"
      ],
      "metadata": {
        "id": "EjftJWjmPu8v"
      },
      "execution_count": 20,
      "outputs": []
    },
    {
      "cell_type": "code",
      "source": [
        "print(File_inicial.head())"
      ],
      "metadata": {
        "id": "jDhruJD9Rb82"
      },
      "execution_count": null,
      "outputs": []
    },
    {
      "cell_type": "code",
      "source": [
        "print(File_nueva.head())"
      ],
      "metadata": {
        "id": "dCsUxx3GR5wd"
      },
      "execution_count": null,
      "outputs": []
    },
    {
      "cell_type": "code",
      "source": [
        "import pandas as pd\n",
        "from sklearn.model_selection import train_test_split\n",
        "from sklearn.feature_extraction.text import TfidfVectorizer\n",
        "from sklearn.ensemble import RandomForestClassifier\n",
        "from sklearn.multioutput import MultiOutputClassifier\n",
        "from sklearn.pipeline import make_pipeline\n",
        "import numpy as np\n",
        "\n",
        "# Cargar archivos\n",
        "File_inicial = pd.read_excel('/content/file_inicial.xlsx')\n",
        "File_nueva = pd.read_excel('/content/file_nueva.xlsx')\n",
        "\n",
        "# Definir las columnas de descripción\n",
        "columnas_descripcion = ['Descripcion Comercial', 'Descripcion1', 'Descripcion2', 'Descripcion3', 'Descripcion4', 'Descripcion5']\n",
        "\n",
        "# Rellenar valores nulos en las columnas de descripción con \"Desconocido\"\n",
        "File_inicial[columnas_descripcion] = File_inicial[columnas_descripcion].fillna(\"Desconocido\")\n",
        "File_nueva[columnas_descripcion] = File_nueva[columnas_descripcion].fillna(\"Desconocido\")\n",
        "\n",
        "# Combinar las columnas de descripción en una sola columna\n",
        "File_inicial['Descripcion_combinada'] = File_inicial[columnas_descripcion].apply(lambda row: ' '.join(row.values.astype(str)), axis=1)\n",
        "File_nueva['Descripcion_combinada'] = File_nueva[columnas_descripcion].apply(lambda row: ' '.join(row.values.astype(str)), axis=1)\n",
        "\n",
        "# Definir las columnas objetivo\n",
        "columnas_objetivo = ['Tipo de Material', 'Familia', 'Subfamilia', 'Referencia']\n",
        "\n",
        "# Asegurar que las columnas objetivo no tengan valores nulos\n",
        "File_inicial[columnas_objetivo] = File_inicial[columnas_objetivo].fillna(\"Desconocido\")\n",
        "\n",
        "# Verificar si hay valores nulos restantes\n",
        "print(File_inicial[columnas_objetivo].isnull().sum())\n",
        "\n",
        "# Separar los datos de entrenamiento\n",
        "X = File_inicial['Descripcion_combinada']\n",
        "y = File_inicial[columnas_objetivo]\n",
        "\n",
        "# Convertir el target (y) a cadenas de texto para evitar conflictos de tipo\n",
        "y = y.astype(str)\n",
        "\n",
        "# Dividir en datos de entrenamiento y prueba\n",
        "X_train, X_test, y_train, y_test = train_test_split(X, y, test_size=0.2, random_state=42)\n",
        "\n",
        "# Crear pipeline de TF-IDF y modelo de RandomForest\n",
        "pipeline = make_pipeline(\n",
        "    TfidfVectorizer(),\n",
        "    MultiOutputClassifier(RandomForestClassifier())\n",
        ")\n",
        "\n",
        "# Entrenar el modelo\n",
        "pipeline.fit(X_train, y_train)\n",
        "\n",
        "# Evaluar el modelo (opcional)\n",
        "score = pipeline.score(X_test, y_test)\n",
        "print(f'Precisión del modelo: {score:.2f}')\n",
        "\n",
        "# Predecir en la base nueva\n",
        "predicciones = pipeline.predict(File_nueva['Descripcion_combinada'])\n",
        "\n",
        "# Convertir las predicciones a un DataFrame\n",
        "predicciones_df = pd.DataFrame(predicciones, columns=columnas_objetivo)\n",
        "\n",
        "# Agregar las predicciones al DataFrame de File_nueva\n",
        "File_nueva[columnas_objetivo] = predicciones_df\n",
        "\n",
        "# Verificar el resultado\n",
        "print(File_nueva.head())\n",
        "\n",
        "# Guardar el archivo actualizado con las predicciones\n",
        "File_nueva.to_excel('/content/File_nueva_actualizada.xlsx', index=False)\n",
        "print(\"Archivo guardado como File_nueva_actualizada.xlsx\")\n"
      ],
      "metadata": {
        "id": "dUslQVRAYh_q"
      },
      "execution_count": null,
      "outputs": []
    }
  ],
  "metadata": {
    "colab": {
      "name": "Te damos la bienvenida a Colaboratory",
      "provenance": [],
      "include_colab_link": true
    },
    "kernelspec": {
      "display_name": "Python 3",
      "name": "python3"
    }
  },
  "nbformat": 4,
  "nbformat_minor": 0
}