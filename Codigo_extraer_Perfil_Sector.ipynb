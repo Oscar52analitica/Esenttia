{
  "nbformat": 4,
  "nbformat_minor": 0,
  "metadata": {
    "colab": {
      "provenance": [],
      "authorship_tag": "ABX9TyPHkRGW1AQGl/tuFCGfHLpC",
      "include_colab_link": true
    },
    "kernelspec": {
      "name": "python3",
      "display_name": "Python 3"
    },
    "language_info": {
      "name": "python"
    }
  },
  "cells": [
    {
      "cell_type": "markdown",
      "metadata": {
        "id": "view-in-github",
        "colab_type": "text"
      },
      "source": [
        "<a href=\"https://colab.research.google.com/github/Oscar52analitica/Esenttia/blob/main/Codigo_extraer_Perfil_Sector.ipynb\" target=\"_parent\"><img src=\"https://colab.research.google.com/assets/colab-badge.svg\" alt=\"Open In Colab\"/></a>"
      ]
    },
    {
      "cell_type": "code",
      "execution_count": null,
      "metadata": {
        "id": "syMWrrLRHPSm"
      },
      "outputs": [],
      "source": [
        "import pandas as pd"
      ]
    },
    {
      "cell_type": "code",
      "source": [
        "# leer archivo en en almacenamiento de sesión\n",
        "df = pd.read_excel('Prueba_1_referencia.xlsx')"
      ],
      "metadata": {
        "id": "oeeEFaPrHYRo"
      },
      "execution_count": null,
      "outputs": []
    },
    {
      "cell_type": "code",
      "source": [
        "# Cargar el archivo de importaciones\n",
        "importaciones_df = pd.read_excel('Importadores.xlsx')"
      ],
      "metadata": {
        "id": "2osdmwooJEG9"
      },
      "execution_count": null,
      "outputs": []
    },
    {
      "cell_type": "code",
      "source": [
        "# Lista de nombres de las hojas a procesar\n",
        "hojas = ['390110', '390120', '390190', '390140']"
      ],
      "metadata": {
        "id": "R5tS-vPyHuCd"
      },
      "execution_count": null,
      "outputs": []
    },
    {
      "cell_type": "code",
      "source": [
        "# Inicializamos un diccionario para almacenar los DataFrames por hoja\n",
        "dataframes = {}"
      ],
      "metadata": {
        "id": "lwcmXuYUJIqo"
      },
      "execution_count": null,
      "outputs": []
    },
    {
      "cell_type": "code",
      "source": [
        "# Procesar cada hoja\n",
        "for hoja in hojas:\n",
        "    # Cargar el DataFrame desde la hoja actual\n",
        "    df = pd.read_excel('Prueba_1_referencia.xlsx', sheet_name=hoja)  # Asegúrate de que este sea el nombre correcto del archivo\n",
        "\n",
        "    # Realizar el left join con el DataFrame de importaciones\n",
        "    df = df.merge(importaciones_df[['Nit', 'Perfil', 'Sector']], left_on='NIT', right_on='Nit', how='left')\n",
        "\n",
        "    # Eliminar la columna 'Nit' si no la necesitas\n",
        "    df.drop(columns=['Nit'], inplace=True)\n",
        "\n",
        "    # Agregar el DataFrame procesado al diccionario con el nombre de la hoja\n",
        "    dataframes[hoja] = df"
      ],
      "metadata": {
        "id": "A4Ub1cnBJPSI"
      },
      "execution_count": null,
      "outputs": []
    },
    {
      "cell_type": "code",
      "source": [
        "# Guardar todos los DataFrames en un nuevo archivo de Excel manteniendo la estructura de hojas\n",
        "with pd.ExcelWriter('Prueba_1_referencia_con_referencias_y_importaciones.xlsx') as writer:\n",
        "    for hoja, df in dataframes.items():\n",
        "        df.to_excel(writer, sheet_name=hoja, index=False)\n",
        "\n",
        "print(\"El proceso se completó con éxito. El archivo ha sido guardado.\")"
      ],
      "metadata": {
        "colab": {
          "base_uri": "https://localhost:8080/"
        },
        "id": "svmGgyjiJP4E",
        "outputId": "88db46b1-4032-4644-88c6-6b4a6483a6f8"
      },
      "execution_count": null,
      "outputs": [
        {
          "output_type": "stream",
          "name": "stdout",
          "text": [
            "El proceso se completó con éxito. El archivo ha sido guardado.\n"
          ]
        }
      ]
    }
  ]
}